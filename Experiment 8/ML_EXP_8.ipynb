{
  "nbformat": 4,
  "nbformat_minor": 0,
  "metadata": {
    "colab": {
      "provenance": []
    },
    "kernelspec": {
      "name": "python3",
      "display_name": "Python 3"
    },
    "language_info": {
      "name": "python"
    }
  },
  "cells": [
    {
      "cell_type": "code",
      "execution_count": null,
      "metadata": {
        "id": "xvzf0ueLhKhm"
      },
      "outputs": [],
      "source": [
        "import numpy as np\n",
        "import tensorflow as tf\n",
        "from tensorflow import keras\n",
        "import matplotlib.pyplot as plt\n",
        "%matplotlib inline\n"
      ]
    },
    {
      "cell_type": "code",
      "source": [
        "(x_train, y_train),\\\n",
        "\t(x_test, y_test) = keras.datasets.mnist.load_data()\n"
      ],
      "metadata": {
        "colab": {
          "base_uri": "https://localhost:8080/"
        },
        "id": "EgIVSFlOhU2D",
        "outputId": "02dcc4a8-aace-45f1-9d45-ed22db4e2f48"
      },
      "execution_count": null,
      "outputs": [
        {
          "output_type": "stream",
          "name": "stdout",
          "text": [
            "Downloading data from https://storage.googleapis.com/tensorflow/tf-keras-datasets/mnist.npz\n",
            "11490434/11490434 [==============================] - 0s 0us/step\n"
          ]
        }
      ]
    },
    {
      "cell_type": "code",
      "source": [
        "len(x_train)\n",
        "len(x_test)\n",
        "x_train[0].shape\n",
        "plt.matshow(x_train[0])\n"
      ],
      "metadata": {
        "colab": {
          "base_uri": "https://localhost:8080/",
          "height": 292
        },
        "id": "i3z9R4TghYt5",
        "outputId": "a8e32872-49fb-4b09-f3df-c132bdaeb1be"
      },
      "execution_count": null,
      "outputs": [
        {
          "output_type": "execute_result",
          "data": {
            "text/plain": [
              "<matplotlib.image.AxesImage at 0x7fda4dcc1af0>"
            ]
          },
          "metadata": {},
          "execution_count": 3
        },
        {
          "output_type": "display_data",
          "data": {
            "text/plain": [
              "<Figure size 288x288 with 1 Axes>"
            ],
            "image/png": "[encoded data removed]"
          },
          "metadata": {
            "needs_background": "light"
          }
        }
      ]
    },
    {
      "cell_type": "code",
      "source": [
        "# Normalizing the dataset\n",
        "x_train = x_train/255\n",
        "x_test = x_test/255\n",
        "\n",
        "# Flatting the dataset in order\n",
        "# to compute for model building\n",
        "x_train_flatten = x_train.reshape(len(x_train), 28*28)\n",
        "x_test_flatten = x_test.reshape(len(x_test), 28*28)\n"
      ],
      "metadata": {
        "id": "KW4Embzohck5"
      },
      "execution_count": null,
      "outputs": []
    },
    {
      "cell_type": "code",
      "source": [
        "model = keras.Sequential([\n",
        "\tkeras.layers.Dense(10, input_shape=(784,),\n",
        "\t\t\t\t\tactivation='sigmoid')\n",
        "])\n",
        "model.compile(\n",
        "\toptimizer='adam',\n",
        "\tloss='sparse_categorical_crossentropy',\n",
        "\tmetrics=['accuracy'])\n",
        "\n",
        "model.fit(x_train_flatten, y_train, epochs=5)\n"
      ],
      "metadata": {
        "colab": {
          "base_uri": "https://localhost:8080/"
        },
        "id": "8qSWSE2_hfOw",
        "outputId": "d20f0e3c-83ec-4bf7-cf02-b58e059a1c2c"
      },
      "execution_count": null,
      "outputs": [
        {
          "output_type": "stream",
          "name": "stdout",
          "text": [
            "Epoch 1/5\n",
            "1875/1875 [==============================] - 5s 2ms/step - loss: 0.4705 - accuracy: 0.8772\n",
            "Epoch 2/5\n",
            "1875/1875 [==============================] - 4s 2ms/step - loss: 0.3047 - accuracy: 0.9150\n",
            "Epoch 3/5\n",
            "1875/1875 [==============================] - 4s 2ms/step - loss: 0.2835 - accuracy: 0.9204\n",
            "Epoch 4/5\n",
            "1875/1875 [==============================] - 4s 2ms/step - loss: 0.2734 - accuracy: 0.9239\n",
            "Epoch 5/5\n",
            "1875/1875 [==============================] - 8s 4ms/step - loss: 0.2667 - accuracy: 0.9260\n"
          ]
        },
        {
          "output_type": "execute_result",
          "data": {
            "text/plain": [
              "<keras.callbacks.History at 0x7fda4e2d7af0>"
            ]
          },
          "metadata": {},
          "execution_count": 5
        }
      ]
    },
    {
      "cell_type": "code",
      "source": [
        "\n",
        "model.evaluate(x_test_flatten, y_test)\n"
      ],
      "metadata": {
        "id": "2bMCJggahiX5",
        "outputId": "3ab7e878-f6bd-465b-e85c-abad0e9cf480",
        "colab": {
          "base_uri": "https://localhost:8080/"
        }
      },
      "execution_count": null,
      "outputs": [
        {
          "output_type": "stream",
          "name": "stdout",
          "text": [
            "313/313 [==============================] - 1s 1ms/step - loss: 0.2666 - accuracy: 0.9272\n"
          ]
        },
        {
          "output_type": "execute_result",
          "data": {
            "text/plain": [
              "[0.26661717891693115, 0.9272000193595886]"
            ]
          },
          "metadata": {},
          "execution_count": 6
        }
      ]
    }
  ]
}